{
 "cells": [
  {
   "cell_type": "code",
   "execution_count": 1,
   "id": "extended-landscape",
   "metadata": {},
   "outputs": [
    {
     "name": "stderr",
     "output_type": "stream",
     "text": [
      "Using backend: pytorch\n"
     ]
    }
   ],
   "source": [
    "import numpy as np\n",
    "import dgl\n",
    "import scanpy as sc\n",
    "import pandas as pd\n",
    "\n",
    "import torch \n",
    "import torch.nn as nn\n",
    "import torch.nn.functional as F"
   ]
  },
  {
   "cell_type": "code",
   "execution_count": 2,
   "id": "extraordinary-wildlife",
   "metadata": {},
   "outputs": [],
   "source": [
    "adata = sc.read('/home/ngr4/project/sccovid/data/processed/hbec_scv2.h5ad')"
   ]
  },
  {
   "cell_type": "code",
   "execution_count": 3,
   "id": "basic-chase",
   "metadata": {},
   "outputs": [
    {
     "name": "stderr",
     "output_type": "stream",
     "text": [
      "/gpfs/ysm/project/dijk/ngr4/conda_envs/py38dev/lib/python3.8/site-packages/pandas/core/arrays/categorical.py:2487: FutureWarning: The `inplace` parameter in pandas.Categorical.remove_unused_categories is deprecated and will be removed in a future version.\n",
      "  res = method(*args, **kwargs)\n"
     ]
    }
   ],
   "source": [
    "# pre-processing\n",
    "adata_test = adata[adata.obs['split']=='test', :]\n",
    "sc.tl.pca(adata_test, n_comps=50)\n",
    "sc.external.pp.bbknn(adata_test, n_pcs=50, neighbors_within_batch=int(30/len(adata_test.obs['batch'].unique())))"
   ]
  },
  {
   "cell_type": "code",
   "execution_count": 4,
   "id": "consistent-replica",
   "metadata": {},
   "outputs": [],
   "source": [
    "g = dgl.from_scipy(adata_test.obsp['connectivities'])\n",
    "g.ndata['h'] = torch.tensor(adata_test.obsm['X_pca']) # test with just PCA-coords as node features "
   ]
  },
  {
   "cell_type": "code",
   "execution_count": 5,
   "id": "sealed-pilot",
   "metadata": {},
   "outputs": [],
   "source": [
    "# add label\n",
    "label_encoder = {'mock':0, \n",
    "                 'bystander_1dpi':1, \n",
    "                 'infected_1dpi':2, \n",
    "                 'bystander_2dpi':3, \n",
    "                 'infected_2dpi':4, \n",
    "                 'bystander_3dpi':5, \n",
    "                 'infected_3dpi':6}\n",
    "g.ndata['label'] = torch.LongTensor(adata_test.obs['inf'].map(label_encoder).tolist())"
   ]
  },
  {
   "cell_type": "code",
   "execution_count": 6,
   "id": "expressed-combine",
   "metadata": {},
   "outputs": [],
   "source": [
    "import sys\n",
    "sys.path.append('/home/ngr4/project/dev/graphtransformer/scripts/')\n",
    "from layers import GraphTransformerLayer, GraphTransformerLayer_with_e"
   ]
  },
  {
   "cell_type": "code",
   "execution_count": 7,
   "id": "competent-statement",
   "metadata": {},
   "outputs": [],
   "source": [
    "graphtransformer = GraphTransformerLayer(50, 50, 1)"
   ]
  },
  {
   "cell_type": "code",
   "execution_count": 8,
   "id": "verified-numbers",
   "metadata": {},
   "outputs": [
    {
     "data": {
      "text/plain": [
       "tensor([[-0.7363, -0.2228, -0.0875,  ..., -0.3864, -0.6127,  0.3716],\n",
       "        [-0.3343, -1.9142, -0.0435,  ..., -1.1981,  0.1773, -2.5271],\n",
       "        [-0.9305, -1.2824, -0.5805,  ...,  0.2150, -0.2188, -0.6366],\n",
       "        ...,\n",
       "        [ 0.8023, -1.0771, -1.1443,  ..., -0.8001, -0.0502,  0.3752],\n",
       "        [ 1.3413,  0.0446,  0.0140,  ..., -0.2056, -0.0860, -0.1380],\n",
       "        [ 0.6732,  0.3567,  0.2559,  ...,  0.7319,  0.5702,  0.1153]],\n",
       "       grad_fn=<NativeBatchNormBackward>)"
      ]
     },
     "execution_count": 8,
     "metadata": {},
     "output_type": "execute_result"
    }
   ],
   "source": [
    "graphtransformer(g, g.ndata['h'])"
   ]
  },
  {
   "cell_type": "code",
   "execution_count": 13,
   "id": "functioning-rover",
   "metadata": {},
   "outputs": [
    {
     "data": {
      "text/plain": [
       "(tensor([[-0.7363, -0.1121, -0.0844,  ..., -1.7934, -1.1802,  0.4767],\n",
       "         [-0.5928, -1.6743,  0.1341,  ..., -0.7764, -0.1976,  0.0663],\n",
       "         [-1.0090, -1.1183, -0.5477,  ..., -0.3711,  0.6256, -0.5395],\n",
       "         ...,\n",
       "         [ 1.2062, -1.0328, -1.3876,  ...,  0.2576,  0.3574,  0.4905],\n",
       "         [ 1.6420, -0.0639,  0.3728,  ...,  0.8759, -0.9098, -0.5620],\n",
       "         [-0.0495,  0.2421,  0.5733,  ...,  0.1941,  0.5546, -0.0096]],\n",
       "        grad_fn=<NativeBatchNormBackward>),\n",
       " tensor([[-0.1682,  0.5634,  0.2060,  ...,  0.0799, -0.1217, -0.2510],\n",
       "         [ 0.2973, -0.1434,  0.1464,  ..., -0.1300, -0.5844,  0.1048],\n",
       "         [-0.0295, -0.7795,  1.6222,  ..., -0.3397,  0.3698,  0.3646],\n",
       "         ...,\n",
       "         [ 1.5056,  2.0523,  2.2489,  ...,  1.8516, -0.7562,  1.0737],\n",
       "         [ 0.9360, -0.6772,  2.9493,  ..., -0.6561,  0.4912,  1.0306],\n",
       "         [ 0.4962,  0.7260, -0.6242,  ...,  0.0174, -0.0050,  0.4199]],\n",
       "        grad_fn=<NativeBatchNormBackward>))"
      ]
     },
     "execution_count": 13,
     "metadata": {},
     "output_type": "execute_result"
    }
   ],
   "source": [
    "# try with random edge features?\n",
    "g.edata['a'] = torch.rand((g.num_edges(), 50))\n",
    "graphtransformer_with_e = GraphTransformerLayer_with_e(50, 50, 1)\n",
    "graphtransformer_with_e(g, g.ndata['h'], g.edata['a']) # h_out, e_out"
   ]
  },
  {
   "cell_type": "code",
   "execution_count": null,
   "id": "ahead-coffee",
   "metadata": {},
   "outputs": [],
   "source": [
    "# note positional encoding added after linear projection layer\n",
    "## ideas: try UMAP/PHATE coords as alternatives to eigenvalues of laplacian\n",
    "##          *note*: need PE = C^0 * embedding_coordinates + c^0 where C \\in R^{dxk} and the projected node features have dim k "
   ]
  }
 ],
 "metadata": {
  "kernelspec": {
   "display_name": "Python 3",
   "language": "python",
   "name": "python3"
  },
  "language_info": {
   "codemirror_mode": {
    "name": "ipython",
    "version": 3
   },
   "file_extension": ".py",
   "mimetype": "text/x-python",
   "name": "python",
   "nbconvert_exporter": "python",
   "pygments_lexer": "ipython3",
   "version": "3.8.8"
  }
 },
 "nbformat": 4,
 "nbformat_minor": 5
}
